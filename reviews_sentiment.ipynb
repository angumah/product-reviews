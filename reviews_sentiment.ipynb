{
 "cells": [
  {
   "cell_type": "code",
   "execution_count": 1,
   "metadata": {},
   "outputs": [],
   "source": [
    "import pandas as pd # data processing, CSV file I/O (e.g. pd.read_csv)\n",
    "import tarfile # this is to extract the data from that .tgz file\n",
    "from sklearn.feature_extraction.text import CountVectorizer, TfidfVectorizer\n",
    "from sklearn.model_selection import train_test_split\n",
    "from sklearn.naive_bayes import MultinomialNB\n",
    "from sklearn.linear_model import LogisticRegression\n",
    "from sklearn.neural_network import MLPClassifier\n",
    "from sklearn.metrics import accuracy_score, confusion_matrix, classification_report\n",
    "import matplotlib.pyplot as plt\n",
    "from nltk.stem import WordNetLemmatizer\n",
    "from nltk.tokenize import word_tokenize\n",
    "import nltk"
   ]
  },
  {
   "cell_type": "code",
   "execution_count": 2,
   "metadata": {},
   "outputs": [],
   "source": [
    "# get all of the data out of that .tgz\n",
    "amazon_reviews = tarfile.open('/Users/tngumah/Desktop/NLP/Final/amazon_review_polarity_csv.tgz')\n",
    "amazon_reviews.extractall('/Users/tngumah/Desktop/NLP/Final/data')\n",
    "amazon_reviews.close()"
   ]
  },
  {
   "cell_type": "code",
   "execution_count": 3,
   "metadata": {},
   "outputs": [],
   "source": [
    "# check out what the data looks like before you get started\n",
    "# look at the training data set\n",
    "train_df = pd.read_csv('./data/amazon_review_polarity_csv/train.csv', header=None)"
   ]
  },
  {
   "cell_type": "code",
   "execution_count": 4,
   "metadata": {},
   "outputs": [],
   "source": [
    "# look at the test data set\n",
    "test_df = pd.read_csv('./data/amazon_review_polarity_csv/test.csv', header=None)"
   ]
  },
  {
   "cell_type": "code",
   "execution_count": 5,
   "metadata": {},
   "outputs": [],
   "source": [
    "train_df.columns = ['rating', 'title', 'review']\n",
    "train_df = train_df.head(10000)\n",
    "\n",
    "\n",
    "test_df.columns = ['rating', 'title', 'review']\n",
    "test_df = test_df.head(10000)\n"
   ]
  },
  {
   "cell_type": "code",
   "execution_count": 6,
   "metadata": {},
   "outputs": [
    {
     "name": "stdout",
     "output_type": "stream",
     "text": [
      "<class 'pandas.core.frame.DataFrame'>\n",
      "RangeIndex: 10000 entries, 0 to 9999\n",
      "Data columns (total 3 columns):\n",
      " #   Column  Non-Null Count  Dtype \n",
      "---  ------  --------------  ----- \n",
      " 0   rating  10000 non-null  int64 \n",
      " 1   title   9998 non-null   object\n",
      " 2   review  10000 non-null  object\n",
      "dtypes: int64(1), object(2)\n",
      "memory usage: 234.5+ KB\n"
     ]
    }
   ],
   "source": [
    "test_df.info()"
   ]
  },
  {
   "cell_type": "code",
   "execution_count": 7,
   "metadata": {},
   "outputs": [],
   "source": [
    "#preprocess and clean data\n",
    "def preprocess_data(df):\n",
    "    \"\"\"\n",
    "    Preprocesses the training and test DataFrames.\n",
    "\n",
    "    Parameters:\n",
    "    - df (pd.DataFrame): The  DataFrame containing 'title', 'review', and 'rating' columns.\n",
    "\n",
    "    Returns:\n",
    "    pd.DataFrame: The preprocessed dataframe.\n",
    "    \"\"\"\n",
    "    lemmatizer = WordNetLemmatizer()\n",
    "\n",
    "    def clean_text(text):\n",
    "        \"\"\"\n",
    "        Lemmatizes the text, converts it to lowercase, and removes punctuation.\n",
    "        \n",
    "        Parameters:\n",
    "        - text (str): The text to clean.\n",
    "\n",
    "        Returns:\n",
    "        - str: The cleaned text.\n",
    "        \"\"\"\n",
    "        # Convert to lowercase\n",
    "        text = text.lower()\n",
    "        # Remove punctuation\n",
    "        text = text.translate(str.maketrans('', '', string.punctuation))\n",
    "        # Tokenize and lemmatize\n",
    "        tokens = word_tokenize(text)\n",
    "        lemmatized_text = ' '.join(lemmatizer.lemmatize(token) for token in tokens)\n",
    "        return lemmatized_text\n",
    "\n",
    "    # Remove rows with NaN values in combined_text or sentiment\n",
    "    df = df[df['combined_text'].notna() & df['sentiment'].notna()]\n",
    "\n",
    "    return df\n",
    "\n",
    "    #lemmatize and remove stop words\n",
    "    df['combined_text'] = df['combined_text'].apply(clean_text)"
   ]
  },
  {
   "cell_type": "code",
   "execution_count": 8,
   "metadata": {},
   "outputs": [],
   "source": [
    "# Map ratings to sentiment labels\n",
    "def map_sentiment(rating):\n",
    "    \"\"\"\n",
    "    Map rating values to sentiment labels.\n",
    "\n",
    "    Parameters:\n",
    "    rating (int): Rating value (1, or 2).\n",
    "\n",
    "    Returns:\n",
    "    str: 'negative' for ratings 1 and 2, 'positive' for ratings 4 and 5.\n",
    "    \"\"\"\n",
    "    if rating == 1:\n",
    "        return 'negative'\n",
    "    elif rating == 2:\n",
    "        return 'positive'\n"
   ]
  },
  {
   "cell_type": "code",
   "execution_count": 9,
   "metadata": {},
   "outputs": [],
   "source": [
    "# Apply the mapping function to the training and test datasets\n",
    "train_df['sentiment'] = train_df['rating'].apply(map_sentiment)\n",
    "test_df['sentiment'] = test_df['rating'].apply(map_sentiment)"
   ]
  },
  {
   "cell_type": "code",
   "execution_count": 10,
   "metadata": {},
   "outputs": [],
   "source": [
    "# Combine title and review text\n",
    "train_df['combined_text'] = train_df['title'] + \" \" + train_df['review']\n",
    "test_df['combined_text'] = test_df['title'] + \" \" + test_df['review']\n"
   ]
  },
  {
   "cell_type": "code",
   "execution_count": 11,
   "metadata": {},
   "outputs": [
    {
     "name": "stdout",
     "output_type": "stream",
     "text": [
      "<class 'pandas.core.frame.DataFrame'>\n",
      "RangeIndex: 10000 entries, 0 to 9999\n",
      "Data columns (total 5 columns):\n",
      " #   Column         Non-Null Count  Dtype \n",
      "---  ------         --------------  ----- \n",
      " 0   rating         10000 non-null  int64 \n",
      " 1   title          10000 non-null  object\n",
      " 2   review         10000 non-null  object\n",
      " 3   sentiment      10000 non-null  object\n",
      " 4   combined_text  10000 non-null  object\n",
      "dtypes: int64(1), object(4)\n",
      "memory usage: 390.8+ KB\n"
     ]
    }
   ],
   "source": [
    "train_df = preprocess_data(train_df)\n",
    "train_df.info()"
   ]
  },
  {
   "cell_type": "code",
   "execution_count": 12,
   "metadata": {},
   "outputs": [
    {
     "name": "stdout",
     "output_type": "stream",
     "text": [
      "<class 'pandas.core.frame.DataFrame'>\n",
      "Index: 9998 entries, 0 to 9999\n",
      "Data columns (total 5 columns):\n",
      " #   Column         Non-Null Count  Dtype \n",
      "---  ------         --------------  ----- \n",
      " 0   rating         9998 non-null   int64 \n",
      " 1   title          9998 non-null   object\n",
      " 2   review         9998 non-null   object\n",
      " 3   sentiment      9998 non-null   object\n",
      " 4   combined_text  9998 non-null   object\n",
      "dtypes: int64(1), object(4)\n",
      "memory usage: 468.7+ KB\n"
     ]
    }
   ],
   "source": [
    "test_df = preprocess_data(test_df)\n",
    "test_df.info()"
   ]
  },
  {
   "cell_type": "code",
   "execution_count": 13,
   "metadata": {},
   "outputs": [],
   "source": [
    "# Split the data into training and testing sets\n",
    "X_train, X_val, y_train, y_val = train_test_split(train_df['combined_text'], train_df['sentiment'], test_size=0.2, random_state=42)\n",
    "\n",
    "# Test set data\n",
    "X_test = test_df['combined_text']\n",
    "y_test = test_df['sentiment']"
   ]
  },
  {
   "cell_type": "code",
   "execution_count": 14,
   "metadata": {},
   "outputs": [],
   "source": [
    "# Function to train and evaluate models\n",
    "def train_and_evaluate(vectorizer, model, X_train, X_val, y_train, y_val, X_test, y_test):\n",
    "    \"\"\"\n",
    "    Train a model and evaluate its performance on validation and test sets.\n",
    "\n",
    "    Parameters:\n",
    "    vectorizer (Vectorizer): The vectorizer to use for transforming the text data.\n",
    "    model (Classifier): The model to train.\n",
    "    X_train (list of str): Training documents.\n",
    "    X_val (list of str): Validation documents.\n",
    "    y_train (list of str): Training labels.\n",
    "    y_val (list of str): Validation labels.\n",
    "    X_test (list of str): Testing documents.\n",
    "    y_test (list of str): Testing labels.\n",
    "\n",
    "    Returns:\n",
    "    tuple: Validation accuracy, validation report, validation confusion matrix,\n",
    "           test accuracy, test report, test confusion matrix.\n",
    "    \"\"\"\n",
    "    # Vectorize the training data\n",
    "    X_train_vec = vectorizer.fit_transform(X_train)\n",
    "    # Vectorize the validation data\n",
    "    X_val_vec = vectorizer.transform(X_val)\n",
    "    \n",
    "    # Train the model on the training data\n",
    "    model.fit(X_train_vec, y_train)\n",
    "    \n",
    "    # Validate the model on the validation set\n",
    "    y_val_pred = model.predict(X_val_vec)\n",
    "    # Calculate validation accuracy\n",
    "    val_accuracy = accuracy_score(y_val, y_val_pred)\n",
    "    # Generate validation classification report\n",
    "    val_report = classification_report(y_val, y_val_pred)\n",
    "    # Generate validation confusion matrix\n",
    "    val_cm = confusion_matrix(y_val, y_val_pred)\n",
    "    \n",
    "    # Evaluate the model on the test set\n",
    "    X_test_vec = vectorizer.transform(X_test)  # Vectorize the test data\n",
    "    y_test_pred = model.predict(X_test_vec)    # Predict on the test set\n",
    "    # Calculate test accuracy\n",
    "    test_accuracy = accuracy_score(y_test, y_test_pred)\n",
    "    # Generate test classification report\n",
    "    test_report = classification_report(y_test, y_test_pred)\n",
    "    # Generate test confusion matrix\n",
    "    test_cm = confusion_matrix(y_test, y_test_pred)\n",
    "    \n",
    "    return val_accuracy, val_report, val_cm, test_accuracy, test_report, test_cm\n"
   ]
  },
  {
   "cell_type": "code",
   "execution_count": 15,
   "metadata": {},
   "outputs": [],
   "source": [
    "# Initialize vectorizers and models\n",
    "vectorizer_tf = CountVectorizer(max_features=5000)  # Vectorizer for term frequency\n",
    "vectorizer_tfidf = TfidfVectorizer(max_features=5000)  # Vectorizer for TF-IDF\n",
    "\n",
    "model_nb = MultinomialNB()  # Naive Bayes classifier\n",
    "model_lr = LogisticRegression(max_iter=1000)  # Logistic Regression classifier\n",
    "model_mlp = MLPClassifier(hidden_layer_sizes=(100,), max_iter=300)  # MLP classifier\n",
    "\n",
    "# Train and evaluate models with validation and test sets\n",
    "# Naive Bayes with CountVectorizer (TF)\n",
    "val_accuracy_nb_tf, val_report_nb_tf, val_cm_nb_tf, test_accuracy_nb_tf, test_report_nb_tf, test_cm_nb_tf = train_and_evaluate(vectorizer_tf, model_nb, X_train, X_val, y_train, y_val, X_test, y_test)\n",
    "\n",
    "# Naive Bayes with TfidfVectorizer (TF-IDF)\n",
    "val_accuracy_nb_tfidf, val_report_nb_tfidf, val_cm_nb_tfidf, test_accuracy_nb_tfidf, test_report_nb_tfidf, test_cm_nb_tfidf = train_and_evaluate(vectorizer_tfidf, model_nb, X_train, X_val, y_train, y_val, X_test, y_test)\n",
    "\n",
    "# Logistic Regression with CountVectorizer (TF)\n",
    "val_accuracy_lr_tf, val_report_lr_tf, val_cm_lr_tf, test_accuracy_lr_tf, test_report_lr_tf, test_cm_lr_tf = train_and_evaluate(vectorizer_tf, model_lr, X_train, X_val, y_train, y_val, X_test, y_test)\n",
    "\n",
    "# Logistic Regression with TfidfVectorizer (TF-IDF)\n",
    "val_accuracy_lr_tfidf, val_report_lr_tfidf, val_cm_lr_tfidf, test_accuracy_lr_tfidf, test_report_lr_tfidf, test_cm_lr_tfidf = train_and_evaluate(vectorizer_tfidf, model_lr, X_train, X_val, y_train, y_val, X_test, y_test)\n",
    "\n",
    "# MLP with CountVectorizer (TF)\n",
    "val_accuracy_mlp_tf, val_report_mlp_tf, val_cm_mlp_tf, test_accuracy_mlp_tf, test_report_mlp_tf, test_cm_mlp_tf = train_and_evaluate(vectorizer_tf, model_mlp, X_train, X_val, y_train, y_val, X_test, y_test)\n",
    "\n",
    "# MLP with TfidfVectorizer (TF-IDF)\n",
    "val_accuracy_mlp_tfidf, val_report_mlp_tfidf, val_cm_mlp_tfidf, test_accuracy_mlp_tfidf, test_report_mlp_tfidf, test_cm_mlp_tfidf = train_and_evaluate(vectorizer_tfidf, model_mlp, X_train, X_val, y_train, y_val, X_test, y_test)\n"
   ]
  },
  {
   "cell_type": "code",
   "execution_count": 16,
   "metadata": {},
   "outputs": [],
   "source": [
    "# Print evaluation results for each model (not included in the original code)\n",
    "def print_evaluation_results(model_name, val_accuracy, val_report, val_cm, test_accuracy, test_report, test_cm):\n",
    "    \"\"\"\n",
    "    Print the evaluation results for a given model.\n",
    "\n",
    "    Parameters:\n",
    "    model_name (str): The name of the model.\n",
    "    val_accuracy (float): Validation accuracy of the model.\n",
    "    val_report (str): Validation classification report of the model.\n",
    "    val_cm (ndarray): Validation confusion matrix of the model.\n",
    "    test_accuracy (float): Test accuracy of the model.\n",
    "    test_report (str): Test classification report of the model.\n",
    "    test_cm (ndarray): Test confusion matrix of the model.\n",
    "    \"\"\"\n",
    "    print(f\"Model: {model_name}\")\n",
    "    print(f\"Validation Accuracy: {val_accuracy}\")\n",
    "    print(\"Validation Classification Report:\")\n",
    "    print(val_report)\n",
    "    print(\"Validation Confusion Matrix:\")\n",
    "    print(val_cm)\n",
    "    print(f\"Test Accuracy: {test_accuracy}\")\n",
    "    print(\"Test Classification Report:\")\n",
    "    print(test_report)\n",
    "    print(\"Test Confusion Matrix:\")\n",
    "    print(test_cm)\n",
    "    print(\"\\n\")\n"
   ]
  },
  {
   "cell_type": "code",
   "execution_count": 17,
   "metadata": {},
   "outputs": [
    {
     "name": "stdout",
     "output_type": "stream",
     "text": [
      "Model: Naive Bayes with TF\n",
      "Validation Accuracy: 0.8385\n",
      "Validation Classification Report:\n",
      "              precision    recall  f1-score   support\n",
      "\n",
      "    negative       0.84      0.86      0.85      1037\n",
      "    positive       0.84      0.82      0.83       963\n",
      "\n",
      "    accuracy                           0.84      2000\n",
      "   macro avg       0.84      0.84      0.84      2000\n",
      "weighted avg       0.84      0.84      0.84      2000\n",
      "\n",
      "Validation Confusion Matrix:\n",
      "[[889 148]\n",
      " [175 788]]\n",
      "Test Accuracy: 0.8314662932586517\n",
      "Test Classification Report:\n",
      "              precision    recall  f1-score   support\n",
      "\n",
      "    negative       0.83      0.83      0.83      4874\n",
      "    positive       0.83      0.84      0.84      5124\n",
      "\n",
      "    accuracy                           0.83      9998\n",
      "   macro avg       0.83      0.83      0.83      9998\n",
      "weighted avg       0.83      0.83      0.83      9998\n",
      "\n",
      "Test Confusion Matrix:\n",
      "[[4026  848]\n",
      " [ 837 4287]]\n",
      "\n",
      "\n",
      "Model: Naive Bayes with TF-IDF\n",
      "Validation Accuracy: 0.835\n",
      "Validation Classification Report:\n",
      "              precision    recall  f1-score   support\n",
      "\n",
      "    negative       0.82      0.87      0.85      1037\n",
      "    positive       0.85      0.80      0.82       963\n",
      "\n",
      "    accuracy                           0.83      2000\n",
      "   macro avg       0.84      0.83      0.83      2000\n",
      "weighted avg       0.84      0.83      0.83      2000\n",
      "\n",
      "Validation Confusion Matrix:\n",
      "[[904 133]\n",
      " [197 766]]\n",
      "Test Accuracy: 0.8290658131626325\n",
      "Test Classification Report:\n",
      "              precision    recall  f1-score   support\n",
      "\n",
      "    negative       0.82      0.84      0.83      4874\n",
      "    positive       0.84      0.82      0.83      5124\n",
      "\n",
      "    accuracy                           0.83      9998\n",
      "   macro avg       0.83      0.83      0.83      9998\n",
      "weighted avg       0.83      0.83      0.83      9998\n",
      "\n",
      "Test Confusion Matrix:\n",
      "[[4092  782]\n",
      " [ 927 4197]]\n",
      "\n",
      "\n",
      "Model: Logistic Regression with TF\n",
      "Validation Accuracy: 0.857\n",
      "Validation Classification Report:\n",
      "              precision    recall  f1-score   support\n",
      "\n",
      "    negative       0.86      0.87      0.86      1037\n",
      "    positive       0.85      0.85      0.85       963\n",
      "\n",
      "    accuracy                           0.86      2000\n",
      "   macro avg       0.86      0.86      0.86      2000\n",
      "weighted avg       0.86      0.86      0.86      2000\n",
      "\n",
      "Validation Confusion Matrix:\n",
      "[[898 139]\n",
      " [147 816]]\n",
      "Test Accuracy: 0.8477695539107821\n",
      "Test Classification Report:\n",
      "              precision    recall  f1-score   support\n",
      "\n",
      "    negative       0.85      0.83      0.84      4874\n",
      "    positive       0.85      0.86      0.85      5124\n",
      "\n",
      "    accuracy                           0.85      9998\n",
      "   macro avg       0.85      0.85      0.85      9998\n",
      "weighted avg       0.85      0.85      0.85      9998\n",
      "\n",
      "Test Confusion Matrix:\n",
      "[[4066  808]\n",
      " [ 714 4410]]\n",
      "\n",
      "\n",
      "Model: Logistic Regression with TF-IDF\n",
      "Validation Accuracy: 0.866\n",
      "Validation Classification Report:\n",
      "              precision    recall  f1-score   support\n",
      "\n",
      "    negative       0.87      0.88      0.87      1037\n",
      "    positive       0.87      0.85      0.86       963\n",
      "\n",
      "    accuracy                           0.87      2000\n",
      "   macro avg       0.87      0.87      0.87      2000\n",
      "weighted avg       0.87      0.87      0.87      2000\n",
      "\n",
      "Validation Confusion Matrix:\n",
      "[[911 126]\n",
      " [142 821]]\n",
      "Test Accuracy: 0.8610722144428886\n",
      "Test Classification Report:\n",
      "              precision    recall  f1-score   support\n",
      "\n",
      "    negative       0.86      0.85      0.86      4874\n",
      "    positive       0.86      0.87      0.87      5124\n",
      "\n",
      "    accuracy                           0.86      9998\n",
      "   macro avg       0.86      0.86      0.86      9998\n",
      "weighted avg       0.86      0.86      0.86      9998\n",
      "\n",
      "Test Confusion Matrix:\n",
      "[[4159  715]\n",
      " [ 674 4450]]\n",
      "\n",
      "\n",
      "Model: MLP with TF\n",
      "Validation Accuracy: 0.8425\n",
      "Validation Classification Report:\n",
      "              precision    recall  f1-score   support\n",
      "\n",
      "    negative       0.85      0.84      0.85      1037\n",
      "    positive       0.83      0.85      0.84       963\n",
      "\n",
      "    accuracy                           0.84      2000\n",
      "   macro avg       0.84      0.84      0.84      2000\n",
      "weighted avg       0.84      0.84      0.84      2000\n",
      "\n",
      "Validation Confusion Matrix:\n",
      "[[870 167]\n",
      " [148 815]]\n",
      "Test Accuracy: 0.834366873374675\n",
      "Test Classification Report:\n",
      "              precision    recall  f1-score   support\n",
      "\n",
      "    negative       0.84      0.81      0.83      4874\n",
      "    positive       0.83      0.85      0.84      5124\n",
      "\n",
      "    accuracy                           0.83      9998\n",
      "   macro avg       0.83      0.83      0.83      9998\n",
      "weighted avg       0.83      0.83      0.83      9998\n",
      "\n",
      "Test Confusion Matrix:\n",
      "[[3965  909]\n",
      " [ 747 4377]]\n",
      "\n",
      "\n",
      "Model: MLP with TF-IDF\n",
      "Validation Accuracy: 0.834\n",
      "Validation Classification Report:\n",
      "              precision    recall  f1-score   support\n",
      "\n",
      "    negative       0.84      0.84      0.84      1037\n",
      "    positive       0.83      0.83      0.83       963\n",
      "\n",
      "    accuracy                           0.83      2000\n",
      "   macro avg       0.83      0.83      0.83      2000\n",
      "weighted avg       0.83      0.83      0.83      2000\n",
      "\n",
      "Validation Confusion Matrix:\n",
      "[[871 166]\n",
      " [166 797]]\n",
      "Test Accuracy: 0.8212642528505701\n",
      "Test Classification Report:\n",
      "              precision    recall  f1-score   support\n",
      "\n",
      "    negative       0.82      0.81      0.82      4874\n",
      "    positive       0.82      0.83      0.83      5124\n",
      "\n",
      "    accuracy                           0.82      9998\n",
      "   macro avg       0.82      0.82      0.82      9998\n",
      "weighted avg       0.82      0.82      0.82      9998\n",
      "\n",
      "Test Confusion Matrix:\n",
      "[[3963  911]\n",
      " [ 876 4248]]\n",
      "\n",
      "\n"
     ]
    }
   ],
   "source": [
    "# Print validation and test results for each model\n",
    "print_evaluation_results(\"Naive Bayes with TF\", val_accuracy_nb_tf, val_report_nb_tf, val_cm_nb_tf, test_accuracy_nb_tf, test_report_nb_tf, test_cm_nb_tf)\n",
    "print_evaluation_results(\"Naive Bayes with TF-IDF\", val_accuracy_nb_tfidf, val_report_nb_tfidf, val_cm_nb_tfidf, test_accuracy_nb_tfidf, test_report_nb_tfidf, test_cm_nb_tfidf)\n",
    "print_evaluation_results(\"Logistic Regression with TF\", val_accuracy_lr_tf, val_report_lr_tf, val_cm_lr_tf, test_accuracy_lr_tf, test_report_lr_tf, test_cm_lr_tf)\n",
    "print_evaluation_results(\"Logistic Regression with TF-IDF\", val_accuracy_lr_tfidf, val_report_lr_tfidf, val_cm_lr_tfidf, test_accuracy_lr_tfidf, test_report_lr_tfidf, test_cm_lr_tfidf)\n",
    "print_evaluation_results(\"MLP with TF\", val_accuracy_mlp_tf, val_report_mlp_tf, val_cm_mlp_tf, test_accuracy_mlp_tf, test_report_mlp_tf, test_cm_mlp_tf)\n",
    "print_evaluation_results(\"MLP with TF-IDF\", val_accuracy_mlp_tfidf, val_report_mlp_tfidf, val_cm_mlp_tfidf, test_accuracy_mlp_tfidf, test_report_mlp_tfidf, test_cm_mlp_tfidf)\n"
   ]
  },
  {
   "cell_type": "code",
   "execution_count": 29,
   "metadata": {},
   "outputs": [
    {
     "data": {
      "text/plain": [
       "<Figure size 1400x600 with 0 Axes>"
      ]
     },
     "execution_count": 29,
     "metadata": {},
     "output_type": "execute_result"
    },
    {
     "data": {
      "text/plain": [
       "<Figure size 1400x600 with 0 Axes>"
      ]
     },
     "metadata": {},
     "output_type": "display_data"
    }
   ],
   "source": [
    "# Visualize the accuracy of each model\n",
    "models = [\"N_B_TF\", \"N_B_TF-IDF\", \"L_R_TF\", \"L_R_TF-IDF\", \"MLP_TF\", \"MLP_TF-IDF\"]\n",
    "val_accuracies = [val_accuracy_nb_tf, val_accuracy_nb_tfidf, val_accuracy_lr_tf, val_accuracy_lr_tfidf, val_accuracy_mlp_tf, val_accuracy_mlp_tfidf]\n",
    "test_accuracies = [test_accuracy_nb_tf, test_accuracy_nb_tfidf, test_accuracy_lr_tf, test_accuracy_lr_tfidf, test_accuracy_mlp_tf, test_accuracy_mlp_tfidf]\n",
    "\n",
    "plt.figure(figsize=(14, 6))\n"
   ]
  },
  {
   "cell_type": "code",
   "execution_count": 30,
   "metadata": {},
   "outputs": [
    {
     "data": {
      "image/png": "[encoded data removed]",
      "text/plain": [
       "<Figure size 640x480 with 1 Axes>"
      ]
     },
     "metadata": {},
     "output_type": "display_data"
    }
   ],
   "source": [
    "# Create a bar chart to compare validation and test accuracies\n",
    "x = range(len(models))\n",
    "plt.bar(x, val_accuracies, width=0.2, label='Validation Accuracy', color='blue', align='center')\n",
    "plt.bar([p + 0.4 for p in x], test_accuracies, width=0.2, label='Test Accuracy', color='orange', align='center')\n",
    "\n",
    "# Add labels and title\n",
    "plt.xlabel('Models')\n",
    "plt.ylabel('Accuracy')\n",
    "plt.title('Validation vs Test Accuracy for Each Model')\n",
    "plt.xticks([p + 0.2 for p in x], models)\n",
    "plt.legend()\n",
    "plt.show()"
   ]
  }
 ],
 "metadata": {
  "kernelspec": {
   "display_name": "Python 3 (ipykernel)",
   "language": "python",
   "name": "python3"
  },
  "language_info": {
   "codemirror_mode": {
    "name": "ipython",
    "version": 3
   },
   "file_extension": ".py",
   "mimetype": "text/x-python",
   "name": "python",
   "nbconvert_exporter": "python",
   "pygments_lexer": "ipython3",
   "version": "3.11.5"
  }
 },
 "nbformat": 4,
 "nbformat_minor": 2
}
